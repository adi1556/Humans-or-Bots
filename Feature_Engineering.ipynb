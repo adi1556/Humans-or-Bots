{
 "cells": [
  {
   "cell_type": "code",
   "execution_count": 1,
   "metadata": {},
   "outputs": [
    {
     "name": "stderr",
     "output_type": "stream",
     "text": [
      "C:\\Users\\Aditya\\Anaconda3\\lib\\site-packages\\sklearn\\cross_validation.py:41: DeprecationWarning: This module was deprecated in version 0.18 in favor of the model_selection module into which all the refactored classes and functions are moved. Also note that the interface of the new CV iterators are different from that of this module. This module will be removed in 0.20.\n",
      "  \"This module will be removed in 0.20.\", DeprecationWarning)\n",
      "C:\\Users\\Aditya\\Anaconda3\\lib\\site-packages\\sklearn\\learning_curve.py:22: DeprecationWarning: This module was deprecated in version 0.18 in favor of the model_selection module into which all the functions are moved. This module will be removed in 0.20\n",
      "  DeprecationWarning)\n",
      "Using TensorFlow backend.\n"
     ]
    }
   ],
   "source": [
    "import func_project3 as f"
   ]
  },
  {
   "cell_type": "code",
   "execution_count": null,
   "metadata": {
    "collapsed": true
   },
   "outputs": [],
   "source": [
    "df1 = f.pd.read_csv(\"bids.csv\")"
   ]
  },
  {
   "cell_type": "code",
   "execution_count": null,
   "metadata": {
    "collapsed": true
   },
   "outputs": [],
   "source": [
    "Xids = []\n",
    "X = []\n",
    "\n",
    "for bidder, group in df1.groupby('bidder_id'):\n",
    "\n",
    "\n",
    "    (nbUniqueAuction, loFreqAuction, hiFreqAuction) = f.computeStats(group.auction)\n",
    "    (nbUniqueMerchandise, loFreqMerchandise, hiFreqMerchandise) = f.computeStats(group.merchandise)\n",
    "    (nbUniqueDevice, loFreqDevice, hiFreqDevice) = f.computeStats(group.device)\n",
    "    (nbUniqueIP, loFreqIP, hiFreqIP) = f.computeStats(group.ip)\n",
    "    (nbUniqueURL, loFreqURL, hiFreqURL) = f.computeStats(group.url)\n",
    "    x = [nbUniqueAuction, loFreqAuction, hiFreqAuction, nbUniqueMerchandise, loFreqMerchandise, hiFreqMerchandise, nbUniqueDevice, loFreqDevice, \n",
    "         hiFreqDevice, nbUniqueIP, loFreqIP, hiFreqIP, nbUniqueURL, loFreqURL, hiFreqURL]\n",
    "    Xids.append(bidder)\n",
    "    X.append(x)\n",
    "    \n",
    "Xcols = ['nbUniqueAuction', 'loFreqAuction', 'hiFreqAuction', 'nbUniqueMerchandise', 'loFreqMerchandise', 'hiFreqMerchandise', \n",
    "         'nbUniqueDevice', 'loFreqDevice', 'hiFreqDevice', 'nbUniqueIP', \n",
    "         'loFreqIP', 'hiFreqIP', 'nbUniqueURL', 'loFreqURL', 'hiFreqURL']\n",
    "\n",
    "dataset = f.pd.DataFrame(X,index=Xids, columns=Xcols)"
   ]
  },
  {
   "cell_type": "code",
   "execution_count": null,
   "metadata": {
    "collapsed": true
   },
   "outputs": [],
   "source": [
    "dataset = dataset.reset_index()\n",
    "dataset = dataset.rename(columns = {\"index\":\"bidder_id\"})"
   ]
  },
  {
   "cell_type": "code",
   "execution_count": null,
   "metadata": {
    "collapsed": true
   },
   "outputs": [],
   "source": [
    "df2 = f.pd.read_csv('train_project3.csv')"
   ]
  },
  {
   "cell_type": "code",
   "execution_count": null,
   "metadata": {
    "collapsed": true
   },
   "outputs": [],
   "source": [
    "new_data = f.pd.merge(dataset,df2, how='right', on='bidder_id')\n",
    "columns = ['payment_account', 'address', 'bidder_id']\n",
    "new_data = f.drop_values(new_data,columns)\n",
    "new_data[\"outcome\"] = new_data[\"outcome\"].astype('category')"
   ]
  },
  {
   "cell_type": "code",
   "execution_count": null,
   "metadata": {
    "collapsed": true
   },
   "outputs": [],
   "source": [
    "## making new columns\n",
    "new_data[\"freqDiffAuction\"] = new_data[\"hiFreqAuction\"]-new_data[\"loFreqAuction\"]\n",
    "new_data[\"freqDiffMerch\"] = new_data[\"hiFreqMerchandise\"]-new_data[\"loFreqMerchandise\"]\n",
    "new_data[\"freqDiffDevice\"] = new_data[\"hiFreqDevice\"]-new_data[\"loFreqDevice\"]\n",
    "new_data[\"freqDiffIP\"] = new_data[\"hiFreqIP\"]-new_data[\"loFreqIP\"]\n",
    "new_data[\"freqDiffURL\"] = new_data[\"hiFreqURL\"]-new_data[\"loFreqURL\"]"
   ]
  },
  {
   "cell_type": "code",
   "execution_count": null,
   "metadata": {
    "collapsed": true
   },
   "outputs": [],
   "source": [
    "f.pd.to_pickle(new_data,\"data_proj3.pkl\")"
   ]
  },
  {
   "cell_type": "code",
   "execution_count": null,
   "metadata": {
    "collapsed": true
   },
   "outputs": [],
   "source": []
  }
 ],
 "metadata": {
  "kernelspec": {
   "display_name": "Python 3",
   "language": "python",
   "name": "python3"
  },
  "language_info": {
   "codemirror_mode": {
    "name": "ipython",
    "version": 3
   },
   "file_extension": ".py",
   "mimetype": "text/x-python",
   "name": "python",
   "nbconvert_exporter": "python",
   "pygments_lexer": "ipython3",
   "version": "3.6.1"
  }
 },
 "nbformat": 4,
 "nbformat_minor": 2
}
