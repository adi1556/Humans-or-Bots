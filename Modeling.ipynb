{
 "cells": [
  {
   "cell_type": "code",
   "execution_count": null,
   "metadata": {},
   "outputs": [],
   "source": [
    "import func_project3 as f"
   ]
  },
  {
   "cell_type": "code",
   "execution_count": null,
   "metadata": {
    "collapsed": true
   },
   "outputs": [],
   "source": [
    "new_data = f.pd.read_pickle('data_proj3.pkl')"
   ]
  },
  {
   "cell_type": "code",
   "execution_count": null,
   "metadata": {
    "collapsed": true
   },
   "outputs": [],
   "source": [
    "y = new_data[\"outcome\"]\n",
    "X = new_data.drop([\"outcome\"], axis=1)\n",
    "X_train, X_test, y_train, y_test = f.train_test_split(X,y, test_size=0.25, stratify=y)"
   ]
  },
  {
   "cell_type": "code",
   "execution_count": null,
   "metadata": {},
   "outputs": [],
   "source": [
    "X_train, X_test, y_train = f.scaling(X_train,X_test,y_train)"
   ]
  },
  {
   "cell_type": "code",
   "execution_count": null,
   "metadata": {
    "collapsed": true
   },
   "outputs": [],
   "source": [
    "grid_gbc = { \"n_estimators\"      : [220,240,260,280],\n",
    "               \"learning_rate\"         : [0.01,0.1,1],\n",
    "               \"max_depth\"         : [10,12,14,16,18,20],\n",
    "                \"min_samples_split\" : [9,10,12],\n",
    "               \"max_features\" : ['auto','log2','sqrt']\n",
    "             }"
   ]
  },
  {
   "cell_type": "code",
   "execution_count": null,
   "metadata": {},
   "outputs": [],
   "source": [
    "f.Gradient_boosting_Classifier(X_train, X_test, y_train, y_test,grid_gbc)"
   ]
  },
  {
   "cell_type": "code",
   "execution_count": null,
   "metadata": {
    "collapsed": true
   },
   "outputs": [],
   "source": [
    "grid_rf = { \"n_estimators\"      : [225,230,235],\n",
    "               \"criterion\"         : [\"gini\", \"entropy\"],\n",
    "               \"max_depth\"         : [14,15],\n",
    "               \"min_samples_split\" : [9,10],\n",
    "              \"max_features\": ['auto','log2','sqrt']\n",
    "             }"
   ]
  },
  {
   "cell_type": "code",
   "execution_count": null,
   "metadata": {},
   "outputs": [],
   "source": [
    "f.Random_Forest(X_train, X_test, y_train, y_test, grid_rf)"
   ]
  },
  {
   "cell_type": "code",
   "execution_count": null,
   "metadata": {},
   "outputs": [],
   "source": [
    "f.Logistic_regression(X_train, X_test, y_train, y_test)"
   ]
  },
  {
   "cell_type": "code",
   "execution_count": null,
   "metadata": {
    "collapsed": true
   },
   "outputs": [],
   "source": [
    "grid_svc = { \"C\"      : np.linspace(1e-2,1,100),\n",
    "               \"kernel\"         : [\"linear\", \"rbf\"],\n",
    "               \n",
    "               \"gamma\"         : np.linspace(1e-2,1,100)\n",
    "               \n",
    "             }"
   ]
  },
  {
   "cell_type": "code",
   "execution_count": null,
   "metadata": {},
   "outputs": [],
   "source": [
    "f.Support_vector_machine(X_train, X_test, y_train, y_test, grid_svc)"
   ]
  },
  {
   "cell_type": "code",
   "execution_count": null,
   "metadata": {
    "collapsed": true
   },
   "outputs": [],
   "source": [
    "grid_xg = { \"n_estimators\"      : [220,240,260,280],\n",
    "               \"learning_rate\"         : [0.01,0.1,1],\n",
    "               \"max_depth\"         : [10,12,14,16,18,20]\n",
    "\n",
    "             }"
   ]
  },
  {
   "cell_type": "code",
   "execution_count": null,
   "metadata": {},
   "outputs": [],
   "source": [
    "f.XG_Boost(X_train, X_test, y_train, y_test, grid_xg)"
   ]
  },
  {
   "cell_type": "code",
   "execution_count": null,
   "metadata": {},
   "outputs": [],
   "source": [
    "f.NN(X_train, X_test, y_train, y_test)"
   ]
  },
  {
   "cell_type": "code",
   "execution_count": null,
   "metadata": {
    "collapsed": true
   },
   "outputs": [],
   "source": []
  }
 ],
 "metadata": {
  "kernelspec": {
   "display_name": "Python 3",
   "language": "python",
   "name": "python3"
  },
  "language_info": {
   "codemirror_mode": {
    "name": "ipython",
    "version": 3
   },
   "file_extension": ".py",
   "mimetype": "text/x-python",
   "name": "python",
   "nbconvert_exporter": "python",
   "pygments_lexer": "ipython3",
   "version": "3.6.1"
  }
 },
 "nbformat": 4,
 "nbformat_minor": 2
}
